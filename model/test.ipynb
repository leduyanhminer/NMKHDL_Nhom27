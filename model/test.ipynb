{
 "cells": [
  {
   "cell_type": "code",
   "execution_count": 16,
   "metadata": {},
   "outputs": [],
   "source": [
    "from pymongo import MongoClient\n",
    "import pandas as pd\n",
    "import base64\n",
    "from IPython.display import Image, display\n",
    "\n",
    "client = MongoClient('mongodb+srv://leduyanh:1@cluster0.z0bblpv.mongodb.net/')\n",
    "db = client['laptop_database_final']\n",
    "collection = db['products']\n",
    "data = collection.find()\n",
    "document = collection.find_one({})"
   ]
  },
  {
   "cell_type": "code",
   "execution_count": 17,
   "metadata": {},
   "outputs": [
    {
     "data": {
      "text/html": [
       "<img src=\"data:image/jpeg;base64,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\"/>"
      ],
      "text/plain": [
       "<IPython.core.display.Image object>"
      ]
     },
     "metadata": {},
     "output_type": "display_data"
    }
   ],
   "source": [
    "#Truy xuất ảnh từ mongodb\n",
    "image_data = document['Image']\n",
    "encoded_image = base64.b64encode(image_data).decode('utf-8')\n",
    "display(Image(url=f\"data:image/jpeg;base64,{encoded_image}\"))"
   ]
  },
  {
   "cell_type": "code",
   "execution_count": 18,
   "metadata": {},
   "outputs": [
    {
     "name": "stdout",
     "output_type": "stream",
     "text": [
      "<class 'pandas.core.frame.DataFrame'>\n",
      "RangeIndex: 18253 entries, 0 to 18252\n",
      "Data columns (total 13 columns):\n",
      " #   Column                          Non-Null Count  Dtype \n",
      "---  ------                          --------------  ----- \n",
      " 0   _id                             18253 non-null  object\n",
      " 1   Processor (CPU)                 18063 non-null  object\n",
      " 2   Graphics card (GPU)             13223 non-null  object\n",
      " 3   Memory (RAM)                    17887 non-null  object\n",
      " 4   Screen size                     18252 non-null  object\n",
      " 5   Screen resolution               17408 non-null  object\n",
      " 6   Weight                          17251 non-null  object\n",
      " 7   Hard drives                     17910 non-null  object\n",
      " 8   Size (length x width x height)  16396 non-null  object\n",
      " 9   Operating system (OS)           17110 non-null  object\n",
      " 10  Release date                    18253 non-null  object\n",
      " 11  Amazon.com Lowest New Price     18108 non-null  object\n",
      " 12  Name                            18253 non-null  object\n",
      "dtypes: object(13)\n",
      "memory usage: 1.8+ MB\n"
     ]
    }
   ],
   "source": [
    "import pandas as pd\n",
    "\n",
    "# Đọc file CSV\n",
    "df = pd.read_csv('../laptop_data.csv')\n",
    "df.info()\n"
   ]
  },
  {
   "cell_type": "code",
   "execution_count": 19,
   "metadata": {},
   "outputs": [
    {
     "data": {
      "text/html": [
       "<div>\n",
       "<style scoped>\n",
       "    .dataframe tbody tr th:only-of-type {\n",
       "        vertical-align: middle;\n",
       "    }\n",
       "\n",
       "    .dataframe tbody tr th {\n",
       "        vertical-align: top;\n",
       "    }\n",
       "\n",
       "    .dataframe thead th {\n",
       "        text-align: right;\n",
       "    }\n",
       "</style>\n",
       "<table border=\"1\" class=\"dataframe\">\n",
       "  <thead>\n",
       "    <tr style=\"text-align: right;\">\n",
       "      <th></th>\n",
       "      <th>_id</th>\n",
       "      <th>Processor (CPU)</th>\n",
       "      <th>Graphics card (GPU)</th>\n",
       "      <th>Memory (RAM)</th>\n",
       "      <th>Screen size</th>\n",
       "      <th>Screen resolution</th>\n",
       "      <th>Weight</th>\n",
       "      <th>Hard drives</th>\n",
       "      <th>Size (length x width x height)</th>\n",
       "      <th>Operating system (OS)</th>\n",
       "      <th>Release date</th>\n",
       "      <th>Amazon.com Lowest New Price</th>\n",
       "      <th>Name</th>\n",
       "    </tr>\n",
       "  </thead>\n",
       "  <tbody>\n",
       "    <tr>\n",
       "      <th>0</th>\n",
       "      <td>6589cba38997406b55ed5eab</td>\n",
       "      <td>Intel Core i7-12700H</td>\n",
       "      <td>GeForce RTX 3070 Ti</td>\n",
       "      <td>64gb</td>\n",
       "      <td>17.3″</td>\n",
       "      <td>Full HD(1920 x 1080 pixels)</td>\n",
       "      <td>6 lbs(2.72 kg)</td>\n",
       "      <td>4000gb SSD</td>\n",
       "      <td>16 x 10 x 2 inches</td>\n",
       "      <td>Windows 11 Pro</td>\n",
       "      <td>April 18, 2023</td>\n",
       "      <td>$4,679.00</td>\n",
       "      <td>Gigabyte AORUS 17 XE4</td>\n",
       "    </tr>\n",
       "    <tr>\n",
       "      <th>1</th>\n",
       "      <td>6589cba38997406b55ed5eac</td>\n",
       "      <td>Intel Core i5-1135G7</td>\n",
       "      <td>Intel Iris Xe</td>\n",
       "      <td>12gb</td>\n",
       "      <td>15.6″</td>\n",
       "      <td>Full HD(1920 x 1080 pixels)</td>\n",
       "      <td>3.75 lbs(1.7 kg)</td>\n",
       "      <td>250gb SSD</td>\n",
       "      <td>14.26 x 9.98 x 0.78 inches</td>\n",
       "      <td>Windows 11 Home</td>\n",
       "      <td>February 25, 2022</td>\n",
       "      <td>$554.99</td>\n",
       "      <td>Lenovo IdeaPad 3 15″ (IdeaPad)</td>\n",
       "    </tr>\n",
       "    <tr>\n",
       "      <th>2</th>\n",
       "      <td>6589cba38997406b55ed5eaf</td>\n",
       "      <td>Intel Core i7-12700H</td>\n",
       "      <td>GeForce RTX 3070 Ti</td>\n",
       "      <td>64gb</td>\n",
       "      <td>16″</td>\n",
       "      <td>WQUXGA(3840 x 2400 pixels)</td>\n",
       "      <td>5 lbs(2.27 kg)</td>\n",
       "      <td>2000gb SSD</td>\n",
       "      <td>14.02 x 9.78 x 0.88 inches</td>\n",
       "      <td>Windows 11 Pro</td>\n",
       "      <td>April 18, 2023</td>\n",
       "      <td>$2,364.00</td>\n",
       "      <td>Gigabyte AERO 16</td>\n",
       "    </tr>\n",
       "    <tr>\n",
       "      <th>3</th>\n",
       "      <td>6589cba38997406b55ed5eb0</td>\n",
       "      <td>Intel Core i5-10300H</td>\n",
       "      <td>GeForce GTX 1650</td>\n",
       "      <td>16gb</td>\n",
       "      <td>15.6″</td>\n",
       "      <td>Full HD(1920 x 1080 pixels)</td>\n",
       "      <td>5.07 lbs(2.3 kg)</td>\n",
       "      <td>500gb SSD</td>\n",
       "      <td>NaN</td>\n",
       "      <td>Windows 11</td>\n",
       "      <td>March 8, 2022</td>\n",
       "      <td>$829.00</td>\n",
       "      <td>ASUS TUF F15 144Hz</td>\n",
       "    </tr>\n",
       "    <tr>\n",
       "      <th>4</th>\n",
       "      <td>6589cba38997406b55ed5eb1</td>\n",
       "      <td>Intel Pentium Gold 7505</td>\n",
       "      <td>NaN</td>\n",
       "      <td>20gb</td>\n",
       "      <td>15.6″</td>\n",
       "      <td>Full HD(1920 x 1080 pixels)</td>\n",
       "      <td>3.74 lbs(1.7 kg)</td>\n",
       "      <td>120gb SSD</td>\n",
       "      <td>14 x 9.8 x 0.78 inches</td>\n",
       "      <td>Windows 11 Home</td>\n",
       "      <td>March 10, 2022</td>\n",
       "      <td>$479.00</td>\n",
       "      <td>Lenovo ideaPad 3i 15″ (82H801GGUS)</td>\n",
       "    </tr>\n",
       "  </tbody>\n",
       "</table>\n",
       "</div>"
      ],
      "text/plain": [
       "                        _id          Processor (CPU)  Graphics card (GPU)  \\\n",
       "0  6589cba38997406b55ed5eab     Intel Core i7-12700H  GeForce RTX 3070 Ti   \n",
       "1  6589cba38997406b55ed5eac     Intel Core i5-1135G7        Intel Iris Xe   \n",
       "2  6589cba38997406b55ed5eaf     Intel Core i7-12700H  GeForce RTX 3070 Ti   \n",
       "3  6589cba38997406b55ed5eb0     Intel Core i5-10300H     GeForce GTX 1650   \n",
       "4  6589cba38997406b55ed5eb1  Intel Pentium Gold 7505                  NaN   \n",
       "\n",
       "  Memory (RAM) Screen size            Screen resolution            Weight  \\\n",
       "0         64gb       17.3″  Full HD(1920 x 1080 pixels)    6 lbs(2.72 kg)   \n",
       "1         12gb       15.6″  Full HD(1920 x 1080 pixels)  3.75 lbs(1.7 kg)   \n",
       "2         64gb         16″   WQUXGA(3840 x 2400 pixels)    5 lbs(2.27 kg)   \n",
       "3         16gb       15.6″  Full HD(1920 x 1080 pixels)  5.07 lbs(2.3 kg)   \n",
       "4         20gb       15.6″  Full HD(1920 x 1080 pixels)  3.74 lbs(1.7 kg)   \n",
       "\n",
       "  Hard drives Size (length x width x height) Operating system (OS)  \\\n",
       "0  4000gb SSD             16 x 10 x 2 inches        Windows 11 Pro   \n",
       "1   250gb SSD     14.26 x 9.98 x 0.78 inches       Windows 11 Home   \n",
       "2  2000gb SSD     14.02 x 9.78 x 0.88 inches        Windows 11 Pro   \n",
       "3   500gb SSD                            NaN            Windows 11   \n",
       "4   120gb SSD         14 x 9.8 x 0.78 inches       Windows 11 Home   \n",
       "\n",
       "        Release date Amazon.com Lowest New Price  \\\n",
       "0     April 18, 2023                   $4,679.00   \n",
       "1  February 25, 2022                     $554.99   \n",
       "2     April 18, 2023                   $2,364.00   \n",
       "3      March 8, 2022                     $829.00   \n",
       "4     March 10, 2022                     $479.00   \n",
       "\n",
       "                                 Name  \n",
       "0               Gigabyte AORUS 17 XE4  \n",
       "1      Lenovo IdeaPad 3 15″ (IdeaPad)  \n",
       "2                    Gigabyte AERO 16  \n",
       "3                  ASUS TUF F15 144Hz  \n",
       "4  Lenovo ideaPad 3i 15″ (82H801GGUS)  "
      ]
     },
     "execution_count": 19,
     "metadata": {},
     "output_type": "execute_result"
    }
   ],
   "source": [
    "df.head()"
   ]
  },
  {
   "cell_type": "code",
   "execution_count": 26,
   "metadata": {},
   "outputs": [],
   "source": [
    "# Xử lý weight\n",
    "import numpy as np\n",
    "def convert_to_kg(weight):\n",
    "    if pd.isna(weight):\n",
    "        return np.nan\n",
    "    try:\n",
    "        return float(weight.split('(')[1].split(' ')[0])\n",
    "    except (IndexError, ValueError):\n",
    "        return np.nan\n"
   ]
  },
  {
   "cell_type": "code",
   "execution_count": 25,
   "metadata": {},
   "outputs": [
    {
     "data": {
      "text/plain": [
       "0        2.72\n",
       "1        1.70\n",
       "2        2.27\n",
       "3        2.30\n",
       "4        1.70\n",
       "         ... \n",
       "18248    1.36\n",
       "18249    1.70\n",
       "18250    2.19\n",
       "18251    2.05\n",
       "18252    1.77\n",
       "Name: Weight, Length: 18253, dtype: float64"
      ]
     },
     "execution_count": 25,
     "metadata": {},
     "output_type": "execute_result"
    }
   ],
   "source": [
    "df['Weight'] = df['Weight'].apply(convert_to_kg)\n",
    "df.head()"
   ]
  }
 ],
 "metadata": {
  "kernelspec": {
   "display_name": "Python 3",
   "language": "python",
   "name": "python3"
  },
  "language_info": {
   "codemirror_mode": {
    "name": "ipython",
    "version": 3
   },
   "file_extension": ".py",
   "mimetype": "text/x-python",
   "name": "python",
   "nbconvert_exporter": "python",
   "pygments_lexer": "ipython3",
   "version": "3.10.11"
  }
 },
 "nbformat": 4,
 "nbformat_minor": 2
}
